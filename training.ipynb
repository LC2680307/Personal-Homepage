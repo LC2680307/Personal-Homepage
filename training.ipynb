{
 "cells": [
  {
   "cell_type": "code",
   "execution_count": 1,
   "metadata": {},
   "outputs": [],
   "source": [
    "import numpy as np\n",
    "import pandas as pd\n",
    "from sklearn.model_selection import GridSearchCV\n",
    "from xgboost import XGBClassifier\n",
    "from sklearn.decomposition import PCA\n",
    "from sklearn import tree\n",
    "from sklearn.ensemble import GradientBoostingClassifier\n",
    "from sklearn.ensemble import RandomForestRegressor, AdaBoostRegressor, BaggingRegressor\n",
    "from sklearn.dummy import DummyRegressor\n",
    "from sklearn import neighbors"
   ]
  },
  {
   "cell_type": "code",
   "execution_count": 2,
   "metadata": {},
   "outputs": [],
   "source": [
    "train_data = pd.read_csv('./train_pyspark.csv', sep='\\t')\n",
    "test_data = pd.read_csv('./test_pyspark.csv' , sep='\\t')"
   ]
  },
  {
   "cell_type": "code",
   "execution_count": 3,
   "metadata": {},
   "outputs": [],
   "source": [
    "train_x = train_data.dropna()\n",
    "train_y = np.array(train_x['Correct First Attempt']).astype(int)\n",
    "train_x = train_x.drop(['Correct First Attempt'],axis = 1)\n",
    "validation_x= test_data.dropna()\n",
    "validation_y = np.array(validation_x['Correct First Attempt']).astype(int)\n",
    "validation_x = validation_x.drop(['Correct First Attempt'],axis = 1)"
   ]
  },
  {
   "cell_type": "code",
   "execution_count": 4,
   "metadata": {},
   "outputs": [],
   "source": [
    "# modeling and testing\n",
    "def Nor(a):\n",
    "    num = np.linalg.norm(a, ord=2, axis=1, keepdims=True)\n",
    "    norm_num = a/num\n",
    "    return norm_num\n",
    "\n",
    "def Rmse(a, b):\n",
    "    mean = np.mean(np.square(np.subtract(a, b)))\n",
    "    sqrt = np.sqrt(mean)\n",
    "    return sqrt\n",
    "\n",
    "def ex():\n",
    "    test_data_x = test_data\n",
    "    test_data_y = np.array(test_data_x['Correct First Attempt']).astype(float)\n",
    "    test_data_x = test_data_x.drop(['Correct First Attempt'], axis=1)\n",
    "    md = RandomForestRegressor(n_estimators=190, max_depth=15, max_leaf_nodes=900)\n",
    "    md.fit(train_x, train_y)\n",
    "    test = md.predict(test_data_x)\n",
    "    for i, j in enumerate(test_data_y):\n",
    "        if np.isnan(j):\n",
    "            test_data_y[i] = test[i]\n",
    "    new_test_data = pd.read_csv('./test.csv', sep='\\t')\n",
    "    new_test_data['Correct First Attempt'] = test_data_y\n",
    "    new_test_data.to_csv('new_test_data.csv', sep='\\t', index=False)"
   ]
  },
  {
   "cell_type": "code",
   "execution_count": 6,
   "metadata": {},
   "outputs": [
    {
     "name": "stdout",
     "output_type": "stream",
     "text": [
      "decision tree's error is 0.532713603903433\n"
     ]
    }
   ],
   "source": [
    "md = tree.DecisionTreeClassifier()\n",
    "md.fit(train_x, train_y)\n",
    "validation = md.predict(validation_x)\n",
    "print(\"decision tree's error is \" + str(Rmse(validation, validation_y)))"
   ]
  },
  {
   "cell_type": "code",
   "execution_count": 63,
   "metadata": {},
   "outputs": [
    {
     "name": "stdout",
     "output_type": "stream",
     "text": [
      "RandomForest's error is0.3736420859705293\n"
     ]
    }
   ],
   "source": [
    "md = RandomForestRegressor()\n",
    "md.fit(train_x, train_y)\n",
    "validation = md.predict(validation_x)\n",
    "print(\"RandomForest's error is\"  + str(Rmse(validation, validation_y)))"
   ]
  },
  {
   "cell_type": "code",
   "execution_count": 64,
   "metadata": {},
   "outputs": [
    {
     "name": "stdout",
     "output_type": "stream",
     "text": [
      "Adaboost's error is 0.39142085038663876\n"
     ]
    }
   ],
   "source": [
    "md = AdaBoostRegressor()\n",
    "md.fit(train_x, train_y)\n",
    "validation = md.predict(validation_x)\n",
    "\n",
    "print(\"Adaboost's error is \"+str(Rmse(validation, validation_y)))"
   ]
  },
  {
   "cell_type": "code",
   "execution_count": 65,
   "metadata": {},
   "outputs": [
    {
     "name": "stdout",
     "output_type": "stream",
     "text": [
      "XGBoost's error is 0.42092419409815013\n"
     ]
    }
   ],
   "source": [
    "\n",
    "md = XGBClassifier()\n",
    "md.fit(train_x, train_y)\n",
    "validation = md.predict(validation_x)\n",
    "print(\"XGBoost's error is \"+str(Rmse(validation, validation_y)))"
   ]
  },
  {
   "cell_type": "code",
   "execution_count": 67,
   "metadata": {},
   "outputs": [
    {
     "name": "stdout",
     "output_type": "stream",
     "text": [
      "Gradient Decision Tree's error is 0.4100831234861637\n"
     ]
    }
   ],
   "source": [
    "\n",
    "md = GradientBoostingClassifier(n_estimators=200)\n",
    "md.fit(train_x, train_y)\n",
    "validation = md.predict(validation_x)\n",
    "print(\"Gradient Decision Tree's error is \"+str(Rmse(validation, validation_y)))"
   ]
  },
  {
   "cell_type": "code",
   "execution_count": 70,
   "metadata": {},
   "outputs": [
    {
     "name": "stdout",
     "output_type": "stream",
     "text": [
      "KNN's error is 0.44888918621582047\n"
     ]
    }
   ],
   "source": [
    "\n",
    "md = neighbors.KNeighborsRegressor()\n",
    "md.fit(train_x, train_y)\n",
    "validation = md.predict(validation_x)\n",
    "print(\"KNN's error is \"+str(Rmse(validation, validation_y)))"
   ]
  },
  {
   "cell_type": "code",
   "execution_count": 10,
   "metadata": {},
   "outputs": [
    {
     "name": "stdout",
     "output_type": "stream",
     "text": [
      "Dummy bagging's error is 0.39429317680213816\n"
     ]
    }
   ],
   "source": [
    "md = BaggingRegressor(base_estimator=DummyRegressor(), n_estimators=100, max_samples=1.0, bootstrap=True)\n",
    "md.fit(train_x, train_y)\n",
    "validation = md.predict(validation_x)\n",
    "print(\"Dummy bagging's error is \"+str(Rmse(validation, validation_y)))"
   ]
  },
  {
   "cell_type": "code",
   "execution_count": 12,
   "metadata": {},
   "outputs": [],
   "source": [
    "# export\n",
    "ex()"
   ]
  },
  {
   "cell_type": "code",
   "execution_count": null,
   "metadata": {},
   "outputs": [],
   "source": []
  }
 ],
 "metadata": {
  "kernelspec": {
   "display_name": "Python 3",
   "language": "python",
   "name": "python3"
  },
  "language_info": {
   "codemirror_mode": {
    "name": "ipython",
    "version": 3
   },
   "file_extension": ".py",
   "mimetype": "text/x-python",
   "name": "python",
   "nbconvert_exporter": "python",
   "pygments_lexer": "ipython3",
   "version": "3.9.5 (tags/v3.9.5:0a7dcbd, May  3 2021, 17:27:52) [MSC v.1928 64 bit (AMD64)]"
  },
  "vscode": {
   "interpreter": {
    "hash": "b671c20432fcd147198c92e7f072af9e705f087eb990bee22b07f08caab9f630"
   }
  }
 },
 "nbformat": 4,
 "nbformat_minor": 4
}
